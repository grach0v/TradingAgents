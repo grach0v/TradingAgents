{
 "cells": [
  {
   "cell_type": "code",
   "execution_count": null,
   "id": "d2750692",
   "metadata": {},
   "outputs": [],
   "source": [
    "import os\n",
    "\n",
    "# Replace the placeholder with your actual Finnhub API key\n",
    "os.environ['FINNHUB_API_KEY'] = ''\n",
    "os.environ['OPENAI_API_KEY'] = ''\n",
    "from tradingagents.graph.trading_graph import TradingAgentsGraph\n",
    "from tradingagents.default_config import DEFAULT_CONFIG\n",
    "\n",
    "ta = TradingAgentsGraph(debug=True, config=DEFAULT_CONFIG.copy())\n",
    "\n",
    "# forward propagate\n",
    "final_state, decision = ta.propagate(\"NVDA\", \"2024-05-10\")\n",
    "# Create crypto-focused configuration\n",
    "from tradingagents.graph.trading_graph import TradingAgentsGraph\n",
    "\n",
    "crypto_config = DEFAULT_CONFIG.copy()\n",
    "crypto_config.update({\n",
    "    \"market_type\": \"crypto\",\n",
    "    \"volatility_threshold\": 0.15,  # Higher volatility threshold for crypto\n",
    "    \"risk_multiplier\": 1.5,  # Higher risk consideration for crypto\n",
    "    \"max_debate_rounds\": 1,  # Keep it simple for this example\n",
    "})\n",
    "\n",
    "print(\"Running crypto analysis for Bitcoin...\")\n",
    "print(\"Note: The agents will automatically detect BTC-USD as crypto and adjust their prompts accordingly.\")\n",
    "print(\"This will analyze Bitcoin with crypto-focused considerations.\\n\")\n",
    "\n",
    "# Analyze Bitcoin with crypto-focused agents using existing graph\n",
    "# The modified prompts will automatically detect crypto symbols and adjust accordingly\n",
    "crypto_final_state, crypto_decision = ta.propagate(\"BTC-USD\", \"2024-05-10\")\n",
    "\n",
    "print(f\"\\nCrypto Trading Decision: {crypto_decision}\")\n",
    "print(\"\\nKey differences in crypto analysis:\")\n",
    "print(\"- 24/7 market dynamics considered\")\n",
    "print(\"- Volatility and regulatory risk factors emphasized\")\n",
    "print(\"- On-chain metrics and community sentiment analyzed\")\n",
    "print(\"- Crypto-specific technical indicators prioritized\")"
   ]
  }
 ],
 "metadata": {
  "language_info": {
   "name": "python"
  }
 },
 "nbformat": 4,
 "nbformat_minor": 5
}
